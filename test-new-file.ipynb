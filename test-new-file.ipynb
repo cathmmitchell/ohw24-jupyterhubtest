{
 "cells": [
  {
   "cell_type": "code",
   "execution_count": 1,
   "id": "ddbd26bc-7b9d-4b7d-a832-3f101a8e69b5",
   "metadata": {},
   "outputs": [
    {
     "name": "stdout",
     "output_type": "stream",
     "text": [
      "happy bday Mike\n"
     ]
    }
   ],
   "source": [
    "print(\"happy bday Mike\")"
   ]
  },
  {
   "cell_type": "code",
   "execution_count": null,
   "id": "2a3783ef-071c-4716-a093-072bfd4ab5bd",
   "metadata": {},
   "outputs": [],
   "source": []
  }
 ],
 "metadata": {
  "kernelspec": {
   "display_name": "Python 3 (ipykernel)",
   "language": "python",
   "name": "python3"
  },
  "language_info": {
   "codemirror_mode": {
    "name": "ipython",
    "version": 3
   },
   "file_extension": ".py",
   "mimetype": "text/x-python",
   "name": "python",
   "nbconvert_exporter": "python",
   "pygments_lexer": "ipython3",
   "version": "3.12.4"
  }
 },
 "nbformat": 4,
 "nbformat_minor": 5
}
